{
 "cells": [
  {
   "cell_type": "code",
   "execution_count": 1,
   "metadata": {},
   "outputs": [],
   "source": [
    "from boututils.datafile import DataFile\n",
    "from boutdata.collect import collect\n",
    "import pandas as pd\n",
    "import numpy as np\n",
    "import matplotlib.pyplot as plt\n",
    "import os, sys, pathlib\n",
    "import platform\n",
    "import traceback\n",
    "import xarray as xr\n",
    "import xbout\n",
    "from pathlib import Path\n",
    "import xhermes as xh\n",
    "\n",
    "sys.path.append(os.path.join(r\"/users/jlb647/scratch/simulation_program/hermes-3_sim/analysis/sdtools\"))\n",
    "sys.path.append(os.path.join(r\"/users/jlb647/scratch/simulation_program/hermes-3_sim/analysis/my_notebooks/notebooks/hermes-3/transients\"))\n",
    "sys.path.append(os.path.join(r\"/users/jlb647/scratch/simulation_program/hermes-3_sim/analysis/my_notebooks/notebooks/hermes-3/general_functions\"))\n",
    "\n",
    "from heatflux_functions import * \n",
    "\n",
    "from plotting_functions import *\n",
    "from convergence_functions import * \n",
    "\n",
    "from hermes3.case_db import *\n",
    "from hermes3.casedeck import*\n",
    "from hermes3.load import *\n",
    "from hermes3.named_selections import *\n",
    "from hermes3.plotting import *\n",
    "from hermes3.grid_fields import *\n",
    "from hermes3.accessors import *\n",
    "from hermes3.utils import *\n",
    "from hermes3.fluxes import *\n",
    "from hermes3.selectors import *\n",
    "\n",
    "# plt.style.use('ggplot')\n",
    "plt.rcParams.update({'font.size': 10})\n",
    "linewidth = 3\n",
    "markersize = 15\n",
    "\n",
    "\n",
    "\n",
    "# plt.style.use('ggplot')\n",
    "plt.style.use('default')\n",
    "plt.rcParams[\"axes.edgecolor\"] = \"black\"\n",
    "plt.rcParams[\"axes.linewidth\"] = 1\n",
    "plt.rcParams['xtick.labelsize'] = 18\n",
    "plt.rcParams['ytick.labelsize'] = 18\n",
    "plt.rcParams['axes.grid'] = True\n",
    "plt.rcParams.update({'font.size': 16})\n",
    "\n",
    "\n",
    "\n",
    "%load_ext autoreload\n",
    "%autoreload 2\n"
   ]
  },
  {
   "cell_type": "code",
   "execution_count": 2,
   "metadata": {},
   "outputs": [],
   "source": [
    "\n",
    "\n",
    "def replace_guards(var):\n",
    "    \"\"\"\n",
    "\tThis in-place replaces the points in the guard cells with the points on the boundary\n",
    "    \n",
    "    \"\"\"\n",
    "    # Strip the edge guard cells\n",
    "    var = var[1:-1]\n",
    "\n",
    "    var[0] = 0.5*(var[0] + var[1])\n",
    "    var[-1] = 0.5*(var[-1] + var[-2])\n",
    "    return var"
   ]
  },
  {
   "cell_type": "code",
   "execution_count": null,
   "metadata": {},
   "outputs": [],
   "source": [
    "\n",
    "alpha_vals = [-1, 0.2, 0.06]\n",
    "neon_vals = [0.0, 0.01, 0.02, 0.03, 0.04, 0.05, 0.06, 0.07, 0.08, 0.09, 0.1]\n",
    "parent_dir = '/users/jlb647/scratch/simulation_program/hermes-3_sim/simulation_dir/updated_flux_limitation/2025-04_single_core_production'\n",
    "\n",
    "\n",
    "cs = dict()\n",
    "\n",
    "\n",
    "for alpha in alpha_vals:\n",
    "    for neon in neon_vals:\n",
    "        name = f\"alpha_{alpha}_neon_{neon}\"\n",
    "        print(f\"Loading {name}\")\n",
    "        cs[name] = Load.case_1D(f'{parent_dir}/alpha_{alpha}/neon_{neon}', guard_replace = False, use_squash=True)\n"
   ]
  }
 ],
 "metadata": {
  "kernelspec": {
   "display_name": "hermes-3_venv",
   "language": "python",
   "name": "python3"
  },
  "language_info": {
   "codemirror_mode": {
    "name": "ipython",
    "version": 3
   },
   "file_extension": ".py",
   "mimetype": "text/x-python",
   "name": "python",
   "nbconvert_exporter": "python",
   "pygments_lexer": "ipython3",
   "version": "3.11.3"
  }
 },
 "nbformat": 4,
 "nbformat_minor": 2
}
