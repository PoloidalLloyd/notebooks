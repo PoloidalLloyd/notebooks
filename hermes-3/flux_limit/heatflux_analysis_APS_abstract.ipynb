{
 "cells": [
  {
   "cell_type": "code",
   "execution_count": 1,
   "metadata": {},
   "outputs": [],
   "source": [
    "import matplotlib.pyplot as pltimport\n",
    "import xhermes as xh\n",
    "from boutdata.data import BoutData\n",
    "from boutdata import collect\n",
    "import matplotlib.pyplot as plt\n",
    "import glob     \n",
    "import re\n",
    "import numpy as np\n",
    "import pandas as pd\n",
    "from heatflux_functions import *\n",
    "from data_accessors import *\n",
    "import xarray as xr\n",
    "\n",
    "plt.style.use('ggplot')\n",
    "plt.rcParams.update({'font.size': 10})\n",
    "linewidth = 3\n",
    "markersize = 15\n",
    "\n",
    "\n",
    "plt.style.use('ggplot')\n",
    "plt.rcParams[\"axes.edgecolor\"] = \"black\"\n",
    "plt.rcParams[\"axes.linewidth\"] = 1\n",
    "plt.rcParams['xtick.labelsize'] = 14\n",
    "plt.rcParams['ytick.labelsize'] = 14\n",
    "plt.rcParams.update({'font.size': 14})\n",
    "\n",
    "\n",
    "def replace_guards(var):\n",
    "    \"\"\"\n",
    "\tThis in-place replaces the points in the guard cells with the points on the boundary\n",
    "    \n",
    "    \"\"\"\n",
    "    # Strip the edge guard cells\n",
    "    var = var[1:-1]\n",
    "\n",
    "    var[0] = 0.5*(var[0] + var[1])\n",
    "    var[-1] = 0.5*(var[-1] + var[-2])\n",
    "    return var"
   ]
  },
  {
   "cell_type": "code",
   "execution_count": null,
   "metadata": {},
   "outputs": [],
   "source": [
    "\n"
   ]
  },
  {
   "cell_type": "markdown",
   "metadata": {},
   "source": [
    "# Developing heat flux functions"
   ]
  },
  {
   "cell_type": "code",
   "execution_count": null,
   "metadata": {},
   "outputs": [],
   "source": [
    "fixed_kappa = xh.open('/users/jlb647/scratch/hermes-3_fork_build/hermes-3/fix_kappa_par_output_build/examples/1D-recycling')\n",
    "master = xh.open('/users/jlb647/scratch/hermes-3_fork_build/hermes-3/master/examples/1D-recycling')\n"
   ]
  },
  {
   "cell_type": "markdown",
   "metadata": {},
   "source": [
    "# heat flux comparison at 0.7\\%"
   ]
  },
  {
   "cell_type": "code",
   "execution_count": 2,
   "metadata": {},
   "outputs": [
    {
     "name": "stderr",
     "output_type": "stream",
     "text": [
      "/users/jlb647/scratch/simulation_program/hermes-3_sim/analysis/hermes-3_venv/lib/python3.11/site-packages/xarray/core/concat.py:527: FutureWarning: unique with argument that is not not a Series, Index, ExtensionArray, or np.ndarray is deprecated and will raise in a future version.\n",
      "  common_dims = tuple(pd.unique([d for v in vars for d in v.dims]))\n",
      "/users/jlb647/scratch/simulation_program/hermes-3_sim/analysis/hermes-3_venv/lib/python3.11/site-packages/xarray/core/concat.py:527: FutureWarning: unique with argument that is not not a Series, Index, ExtensionArray, or np.ndarray is deprecated and will raise in a future version.\n",
      "  common_dims = tuple(pd.unique([d for v in vars for d in v.dims]))\n",
      "/users/jlb647/scratch/simulation_program/hermes-3_sim/analysis/hermes-3_venv/lib/python3.11/site-packages/xarray/core/concat.py:527: FutureWarning: unique with argument that is not not a Series, Index, ExtensionArray, or np.ndarray is deprecated and will raise in a future version.\n",
      "  common_dims = tuple(pd.unique([d for v in vars for d in v.dims]))\n"
     ]
    }
   ],
   "source": [
    "sh = xh.open('/users/jlb647/scratch/simulation_program/hermes-3_sim/simulation_dir/updated_flux_limitation/2024-03-25_wigram_reference_glover_comparison_FINAL/alpha_-1/neon_0.07').isel(t=-1)\n",
    "snb = xh.open('/users/jlb647/scratch/simulation_program/hermes-3_sim/simulation_dir/updated_flux_limitation/2024-03-25_wigram_reference_glover_comparison_FINAL/alpha_snb/neon_0.07').isel(t=-1)\n",
    "fl_006 = xh.open('/users/jlb647/scratch/simulation_program/hermes-3_sim/simulation_dir/updated_flux_limitation/2024-03-25_wigram_reference_glover_comparison_FINAL/alpha_0.06/neon_0.07').isel(t=-1)"
   ]
  },
  {
   "cell_type": "code",
   "execution_count": 5,
   "metadata": {},
   "outputs": [
    {
     "name": "stderr",
     "output_type": "stream",
     "text": [
      "/users/jlb647/scratch/simulation_program/hermes-3_sim/analysis/hermes-3_venv/lib/python3.11/site-packages/xarray/core/concat.py:527: FutureWarning: unique with argument that is not not a Series, Index, ExtensionArray, or np.ndarray is deprecated and will raise in a future version.\n",
      "  common_dims = tuple(pd.unique([d for v in vars for d in v.dims]))\n"
     ]
    }
   ],
   "source": [
    "fl_02 = xh.open('/users/jlb647/scratch/simulation_program/hermes-3_sim/simulation_dir/updated_flux_limitation/2024-03-25_wigram_reference_glover_comparison_FINAL/alpha_0.2/neon_0.07').isel(t=-1)"
   ]
  },
  {
   "cell_type": "code",
   "execution_count": 3,
   "metadata": {},
   "outputs": [],
   "source": [
    "def spitzer_q_electron(xarray):\n",
    "\n",
    "    # Constants\n",
    "    e = 1.602e-19  # Electron charge in Coulombs\n",
    "    m_e = 9.109e-31  # Electron mass in kg\n",
    "    pi = np.pi\n",
    "    k0 = 13.58  # Given constant\n",
    "    epsilon_0 = 8.85e-12  # Permittivity of free space in F/m\n",
    "\n",
    "    # Assumed given values (you'll need to replace these with actual values)\n",
    "    Z = 1  # Average ion charge, example value\n",
    "    x = np.ravel(xarray['y'].values)\n",
    "    Te = np.ravel(xarray['Te'].values)\n",
    "    Ne = np.ravel(xarray['Ne'].values)\n",
    "    Ni = np.ravel(xarray['Nd+'].values)\n",
    "\n",
    "    Y = 4 * pi * (e**2 / (4 * pi * epsilon_0 * m_e))**2\n",
    "\n",
    "    ln_alpha = 6.6 - 0.5 * np.log(Ne/1e20) + 1.5* np.log(Te)\n",
    "\n",
    "    v_t = np.sqrt(2 * e * Te/m_e)\n",
    "\n",
    "    lambda_ei = (v_t**4)/(Y * Ni * ln_alpha)\n",
    "\n",
    "    tau_t = lambda_ei/v_t\n",
    "\n",
    "    grad_T = np.gradient(Te, x)\n",
    "\n",
    "    # Unsure about the constants in this equation ((-1 +0.24)/(-1 + 4.2)) should it be + or - 1 for the electron\n",
    "    q = -((Ne * e * Te)/(m_e)) * ((3 * np.sqrt(pi))/4) * (tau_t*k0) * ((1 +0.24)/(1 + 4.2)) *  grad_T\n",
    "\n",
    "    # Convert from ev/m^2/s to W/m^2\n",
    "    q_SH_electron = q * e\n",
    "\n",
    "    return q_SH_electron\n"
   ]
  },
  {
   "cell_type": "code",
   "execution_count": 9,
   "metadata": {},
   "outputs": [
    {
     "ename": "NameError",
     "evalue": "name 'ax' is not defined",
     "output_type": "error",
     "traceback": [
      "\u001b[0;31m---------------------------------------------------------------------------\u001b[0m",
      "\u001b[0;31mNameError\u001b[0m                                 Traceback (most recent call last)",
      "Cell \u001b[0;32mIn[9], line 18\u001b[0m\n\u001b[1;32m     15\u001b[0m plt\u001b[38;5;241m.\u001b[39mplot(x, fl_006_q, label\u001b[38;5;241m=\u001b[39m\u001b[38;5;124m'\u001b[39m\u001b[38;5;124mflux limited flux\u001b[39m\u001b[38;5;124m'\u001b[39m)\n\u001b[1;32m     16\u001b[0m plt\u001b[38;5;241m.\u001b[39mplot(x, snb_q, label\u001b[38;5;241m=\u001b[39m\u001b[38;5;124m'\u001b[39m\u001b[38;5;124msnb flux\u001b[39m\u001b[38;5;124m'\u001b[39m)\n\u001b[0;32m---> 18\u001b[0m \u001b[43max\u001b[49m\u001b[38;5;241m.\u001b[39mset_xbound(\u001b[38;5;241m60\u001b[39m,\u001b[38;5;241m70\u001b[39m)\n",
      "\u001b[0;31mNameError\u001b[0m: name 'ax' is not defined"
     ]
    },
    {
     "data": {
      "image/png": "[encoded data removed]",
      "text/plain": [
       "<Figure size 640x480 with 1 Axes>"
      ]
     },
     "metadata": {},
     "output_type": "display_data"
    }
   ],
   "source": [
    "sh_q = spitzer_q_electron(sh)\n",
    "x = np.ravel(sh['y'].values)\n",
    "\n",
    "fl_02_q = spitzer_q_electron(fl_02)\n",
    "\n",
    "fl_006_q = spitzer_q_electron(fl_006)\n",
    "\n",
    "snb_q = divq_integrate(snb, False)\n",
    "\n",
    "\n",
    "fig,ax = plt.subplots()\n",
    "\n",
    "ax.plot(x, sh_q, label='Spitzer-Harm flux')\n",
    "ax.plot(x, fl_02_q, label='flux limited flux')\n",
    "ax.plot(x, fl_006_q, label='flux limited flux')\n",
    "ax.plot(x, snb_q, label='snb flux')\n",
    "\n",
    "ax.set_xbound(60,70)"
   ]
  },
  {
   "cell_type": "code",
   "execution_count": null,
   "metadata": {},
   "outputs": [],
   "source": []
  }
 ],
 "metadata": {
  "kernelspec": {
   "display_name": "hermes-3_venv",
   "language": "python",
   "name": "python3"
  },
  "language_info": {
   "codemirror_mode": {
    "name": "ipython",
    "version": 3
   },
   "file_extension": ".py",
   "mimetype": "text/x-python",
   "name": "python",
   "nbconvert_exporter": "python",
   "pygments_lexer": "ipython3",
   "version": "3.11.3"
  }
 },
 "nbformat": 4,
 "nbformat_minor": 2
}
