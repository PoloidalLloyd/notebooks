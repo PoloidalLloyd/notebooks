{
 "cells": [
  {
   "cell_type": "code",
   "execution_count": 1,
   "metadata": {},
   "outputs": [],
   "source": [
    "from boututils.datafile import DataFile\n",
    "from boutdata.collect import collect\n",
    "import pandas as pd\n",
    "import numpy as np\n",
    "import matplotlib.pyplot as plt\n",
    "import os, sys, pathlib\n",
    "import platform\n",
    "import traceback\n",
    "import xarray as xr\n",
    "import xbout\n",
    "from pathlib import Path\n",
    "\n",
    "sys.path.append(os.path.join(r\"/home/userfs/j/jlb647/w2k/lloyd_sim/hermes-3_simulations/analysis/scripts/sdtools\"))\n",
    "\n",
    "from hermes3.case_db import *\n",
    "from hermes3.load import *\n",
    "from hermes3.named_selections import *\n",
    "from hermes3.plotting import *\n",
    "from hermes3.grid_fields import *\n",
    "from hermes3.accessors import *\n",
    "from hermes3.utils import *\n",
    "from hermes3.fluxes import *\n",
    "\n",
    "\n",
    "%load_ext autoreload\n",
    "%autoreload 2\n"
   ]
  },
  {
   "cell_type": "code",
   "execution_count": 14,
   "metadata": {},
   "outputs": [
    {
     "name": "stderr",
     "output_type": "stream",
     "text": [
      "/home/userfs/j/jlb647/w2k/lloyd_sim/hermes-3_simulations/analysis/hermes_venv/lib/python3.8/site-packages/dask/array/core.py:4832: PerformanceWarning: Increasing number of chunks by factor of 25\n",
      "  result = blockwise(\n",
      "/home/userfs/j/jlb647/w2k/lloyd_sim/hermes-3_simulations/analysis/hermes_venv/lib/python3.8/site-packages/dask/array/core.py:4832: PerformanceWarning: Increasing number of chunks by factor of 25\n",
      "  result = blockwise(\n"
     ]
    }
   ],
   "source": [
    "sh_ds = Load.case_1D(\n",
    "    '/shared/storage/plasmahwdisks/data/jlb647/simulation_data/flux_limiter_detachment/2024-05_SHvsSNB_lower_power_higher_up-den/alpha_-1/neon_0.0').ds\n",
    "\n",
    "snb_ds = Load.case_1D('/shared/storage/plasmahwdisks/data/jlb647/simulation_data/flux_limiter_detachment/2024-05_SHvsSNB_lower_power_higher_up-den/alpha_snb/neon_0.0').ds\n"
   ]
  },
  {
   "cell_type": "code",
   "execution_count": 15,
   "metadata": {},
   "outputs": [],
   "source": [
    "sh_ds = sh_ds.isel(t=-1, pos = slice(1,-1))\n",
    "snb_ds = snb_ds.isel(t=-1, pos = slice(1,-1))\n",
    "fig,ax = plt.subplots()\n",
    "sh_ds['Te'].plot(ax=ax, label='SH')\n",
    "snb_ds['Te'].plot(ax=ax, label='SNB')\n",
    "\n"
   ]
  },
  {
   "cell_type": "code",
   "execution_count": null,
   "metadata": {},
   "outputs": [],
   "source": []
  }
 ],
 "metadata": {
  "kernelspec": {
   "display_name": "hermes_venv",
   "language": "python",
   "name": "python3"
  },
  "language_info": {
   "codemirror_mode": {
    "name": "ipython",
    "version": 3
   },
   "file_extension": ".py",
   "mimetype": "text/x-python",
   "name": "python",
   "nbconvert_exporter": "python",
   "pygments_lexer": "ipython3",
   "version": "3.8.10"
  }
 },
 "nbformat": 4,
 "nbformat_minor": 2
}
