{
 "cells": [
  {
   "cell_type": "code",
   "execution_count": 1,
   "metadata": {},
   "outputs": [],
   "source": [
    "from boututils.datafile import DataFile\n",
    "from boutdata.collect import collect\n",
    "import pandas as pd\n",
    "import numpy as np\n",
    "import matplotlib.pyplot as plt\n",
    "import os, sys, pathlib\n",
    "import platform\n",
    "import traceback\n",
    "import xarray as xr\n",
    "import xbout\n",
    "from pathlib import Path\n",
    "import xhermes as xh\n",
    "import matplotlib.pyplot as plt\n",
    "import os, sys, pathlib\n",
    "import numpy as np\n",
    "import xarray as xr\n",
    "import xhermes as xh\n",
    "\n",
    "sys.path.append(os.path.join(r\"/users/jlb647/scratch/simulation_program/hermes-3_sim/analysis/sdtools\"))\n",
    "sys.path.append(os.path.join(r\"/users/jlb647/scratch/simulation_program/hermes-3_sim/analysis/my_notebooks/notebooks/hermes-3/general_functions\"))\n",
    "\n",
    "from convergence_functions import *\n",
    "\n",
    "from matplotlib.ticker import LogFormatter\n",
    "\n",
    "sys.path.append(os.path.join(r\"/users/jlb647/scratch/simulation_program/hermes-3_sim/analysis/sdtools\"))\n",
    "sys.path.append(os.path.join(r\"/users/jlb647/scratch/simulation_program/hermes-3_sim/analysis/my_notebooks/notebooks/hermes-3/transients\"))\n",
    "sys.path.append(os.path.join(r\"/users/jlb647/scratch/simulation_program/hermes-3_sim/analysis/my_notebooks/notebooks/hermes-3/general_functions\"))\n",
    "\n",
    "\n",
    "from plotting_functions import *\n",
    "from convergence_functions import * \n",
    "\n",
    "from hermes3.case_db import *\n",
    "from hermes3.load import *\n",
    "from hermes3.named_selections import *\n",
    "from hermes3.plotting import *\n",
    "from hermes3.grid_fields import *\n",
    "from hermes3.accessors import *\n",
    "from hermes3.utils import *\n",
    "from hermes3.fluxes import *\n",
    "\n",
    "\n",
    "# plt.style.use('ggplot')\n",
    "plt.rcParams.update({'font.size': 10})\n",
    "linewidth = 3\n",
    "markersize = 15\n",
    "\n",
    "\n",
    "\n",
    "# plt.style.use('ggplot')\n",
    "plt.style.use('default')\n",
    "plt.rcParams[\"axes.edgecolor\"] = \"black\"\n",
    "plt.rcParams[\"axes.linewidth\"] = 1\n",
    "plt.rcParams['xtick.labelsize'] = 18\n",
    "plt.rcParams['ytick.labelsize'] = 18\n",
    "plt.rcParams['axes.grid'] = True\n",
    "plt.rcParams.update({'font.size': 16})\n",
    "\n",
    "\n",
    "\n",
    "%load_ext autoreload\n",
    "%autoreload 2\n"
   ]
  },
  {
   "cell_type": "code",
   "execution_count": 2,
   "metadata": {},
   "outputs": [
    {
     "name": "stderr",
     "output_type": "stream",
     "text": [
      "/users/jlb647/scratch/simulation_program/hermes-3_sim/analysis/hermes-3_venv/lib/python3.11/site-packages/xarray/core/concat.py:527: FutureWarning: unique with argument that is not not a Series, Index, ExtensionArray, or np.ndarray is deprecated and will raise in a future version.\n",
      "  common_dims = tuple(pd.unique([d for v in vars for d in v.dims]))\n"
     ]
    }
   ],
   "source": [
    "fl_cd = xh.open('/users/jlb647/scratch/simulation_program/hermes-3_sim/simulation_dir/2024-10_glimmer_working_cases/FL/CD/FL_CD_5.0_w')\n",
    "fl_sxd = xh.open('/users/jlb647/scratch/simulation_program/hermes-3_sim/simulation_dir/2024-10_glimmer_working_cases/FL/SXD/FL_SXD_w_cdtosxd')\n",
    "\n",
    "snb_cd = xh.open('/users/jlb647/scratch/simulation_program/hermes-3_sim/simulation_dir/2024-10_glimmer_working_cases/SNB/CD')\n",
    "snb_sxd = xh.open('/users/jlb647/scratch/simulation_program/hermes-3_sim/simulation_dir/2024-10_glimmer_working_cases/SNB/SXD')"
   ]
  },
  {
   "cell_type": "code",
   "execution_count": null,
   "metadata": {},
   "outputs": [],
   "source": [
    "def plot_te_ne_nd(ds, title = ''):\n",
    "    \n",
    "    ds = ds.isel(t=-1)\n",
    "    Te = replace_guards(np.ravel(ds['Te']))\n",
    "    Ne = replace_guards(np.ravel(ds['Ne']))\n",
    "    Nd = replace_guards(np.ravel(ds['Nd']))\n",
    "    y = ds['y'][1:-1]\n",
    "\n",
    "    fig,ax = plt.subplots(1,1, figsize = (12,6), dpi = 500)\n",
    "    ax.plot(y,Te, label = 'Te')\n",
    "    ax.set_ylabel('Te (eV)')\n",
    "    ax.set_xlabel(rf'S$_\\parallel$ (m)')\n",
    "    ax2 = ax.twinx()\n",
    "\n",
    "    ax2.plot(y,Ne, label = 'Ne', color = 'red')\n",
    "    ax2.plot(y,Nd, label = 'Nd', color = 'green', linestyle = '--')\n",
    "    ax2.set_yscale('log')\n",
    "    ax2.grid(False)\n",
    "    ax2.set_ylabel(rf'Ne, Nd (m$^-3$)')\n",
    "\n",
    "    if title != '':\n",
    "        ax.set_title(title)\n",
    "\n",
    "    fig.legend()"
   ]
  },
  {
   "cell_type": "code",
   "execution_count": null,
   "metadata": {},
   "outputs": [],
   "source": [
    "coef0 = 1.7597676684e+00\t\t# Manually setting the flux expansion with a profile from the equilibrium files\n",
    "coef1 = 4.1883560155e-01\t\t# Very hacky but it gets the job done\n",
    "coef2 = -4.6906367245e+00\t\t# area_expansion normally does a good enough job\n",
    "coef3 = 7.3174700447e+00\n",
    "coef4 = -5.7251396733e+00\n",
    "coef5 = 2.6799740048e+00\n",
    "coef6 = -7.9457620000e-01\n",
    "coef7 = 1.5075033673e-01\n",
    "coef8 = -1.7757965412e-02\n",
    "coef9 = 1.1834284917e-03\n",
    "coef10 = -3.4102000406e-05\n",
    "\n",
    "y = np.linspace(0,2*np.pi,100)\n",
    "\n",
    "\n",
    "J = 0  + y^0*coef0 + y^1*coef1 + y^2*coef2 + y^3*coef3 + y^4*coef4 + y^5*coef5 + y^6*coef6 + y^7*coef7 + y^8*coef8 + y^9*coef9 + y^10*coef10"
   ]
  },
  {
   "cell_type": "code",
   "execution_count": null,
   "metadata": {},
   "outputs": [],
   "source": []
  }
 ],
 "metadata": {
  "kernelspec": {
   "display_name": "hermes-3_venv",
   "language": "python",
   "name": "python3"
  },
  "language_info": {
   "codemirror_mode": {
    "name": "ipython",
    "version": 3
   },
   "file_extension": ".py",
   "mimetype": "text/x-python",
   "name": "python",
   "nbconvert_exporter": "python",
   "pygments_lexer": "ipython3",
   "version": "3.11.3"
  }
 },
 "nbformat": 4,
 "nbformat_minor": 2
}
