{
 "cells": [
  {
   "cell_type": "code",
   "execution_count": null,
   "metadata": {},
   "outputs": [
    {
     "ename": "",
     "evalue": "",
     "output_type": "error",
     "traceback": [
      "\u001b[1;31mFailed to start the Kernel. \n",
      "\u001b[1;31mThe kernel died. Error: ... View Jupyter <a href='command:jupyter.viewOutput'>log</a> for further details."
     ]
    }
   ],
   "source": [
    "from boututils.datafile import DataFile\n",
    "from boutdata.collect import collect\n",
    "import pandas as pd\n",
    "import numpy as np\n",
    "import matplotlib.pyplot as plt\n",
    "import os, sys, pathlib\n",
    "import platform\n",
    "import traceback\n",
    "import xarray as xr\n",
    "import xbout\n",
    "from pathlib import Path\n",
    "import xhermes as xh\n",
    "\n",
    "sys.path.append(os.path.join(r\"/users/jlb647/scratch/simulation_program/hermes-3_sim/sdtool_load_test/sdtools\"))\n",
    "sys.path.append(os.path.join(r\"/users/jlb647/scratch/simulation_program/hermes-3_sim/analysis/my_notebooks/notebooks/hermes-3/transients\"))\n",
    "sys.path.append(os.path.join(r\"/users/jlb647/scratch/simulation_program/hermes-3_sim/analysis/my_notebooks/notebooks/hermes-3/general_functions\"))\n",
    "\n",
    "\n",
    "from plotting_functions import *\n",
    "from convergence_functions import * \n",
    "\n",
    "from hermes3.case_db import *\n",
    "from hermes3.casedeck import*\n",
    "from hermes3.load import *\n",
    "from hermes3.named_selections import *\n",
    "from hermes3.plotting import *\n",
    "from hermes3.grid_fields import *\n",
    "from hermes3.accessors import *\n",
    "from hermes3.utils import *\n",
    "from hermes3.fluxes import *\n",
    "from hermes3.selectors import *\n",
    "from hermes3.balance1d import *\n",
    "\n",
    "# plt.style.use('ggplot')\n",
    "plt.rcParams.update({'font.size': 10})\n",
    "linewidth = 3\n",
    "markersize = 15\n",
    "\n",
    "\n",
    "\n",
    "# plt.style.use('ggplot')\n",
    "plt.style.use('default')\n",
    "plt.rcParams[\"axes.edgecolor\"] = \"black\"\n",
    "plt.rcParams[\"axes.linewidth\"] = 1\n",
    "plt.rcParams['xtick.labelsize'] = 18\n",
    "plt.rcParams['ytick.labelsize'] = 18\n",
    "plt.rcParams['axes.grid'] = True\n",
    "plt.rcParams.update({'font.size': 16})\n",
    "\n",
    "\n",
    "\n",
    "%load_ext autoreload\n",
    "%autoreload 2\n"
   ]
  },
  {
   "cell_type": "markdown",
   "metadata": {},
   "source": [
    "# 2D"
   ]
  },
  {
   "cell_type": "code",
   "execution_count": null,
   "metadata": {},
   "outputs": [],
   "source": [
    "db = CaseDB(case_dir = '/users/jlb647/scratch/simulation_program/hermes-3_sim/simulation_dir/2025-01_STEP_1D-2D_comparison/Mike_2D_cases/m4ab-tune_albedo_new_branch', grid_dir='/users/jlb647/scratch/simulation_program/hermes-3_sim/sdtool_load_test/grids')\n",
    "\n",
    "case = db.load_case_2D(\"m4ab-tune_albedo_new_branch\", use_squash = True, verbose = True)"
   ]
  },
  {
   "cell_type": "code",
   "execution_count": null,
   "metadata": {},
   "outputs": [],
   "source": [
    "\n"
   ]
  },
  {
   "cell_type": "markdown",
   "metadata": {},
   "source": [
    "# 1D"
   ]
  },
  {
   "cell_type": "code",
   "execution_count": null,
   "metadata": {},
   "outputs": [],
   "source": [
    "fl_ex_1D = xh.open('/users/jlb647/scratch/simulation_program/hermes-3_sim/simulation_dir/2025-01_STEP_1D-2D_comparison/Include_flux_expansion/m4ab-tune_albedo_1D_sep_add_1_working_add_flux_expansion')"
   ]
  },
  {
   "cell_type": "markdown",
   "metadata": {},
   "source": [
    "# 1D flux profile"
   ]
  },
  {
   "cell_type": "code",
   "execution_count": null,
   "metadata": {},
   "outputs": [],
   "source": [
    "\n",
    "offset = -150\n",
    "fig, ax = plt.subplots(1, 1, figsize = (10, 6))\n",
    "plt.plot(fl_ex_1D['y'][:offset].values, fl_ex_1D['J'][0][:offset].values, label = '1D', linewidth = linewidth)"
   ]
  },
  {
   "cell_type": "markdown",
   "metadata": {},
   "source": [
    "# 2D flux profile"
   ]
  },
  {
   "cell_type": "code",
   "execution_count": null,
   "metadata": {},
   "outputs": [],
   "source": []
  },
  {
   "cell_type": "code",
   "execution_count": null,
   "metadata": {},
   "outputs": [],
   "source": [
    "params = ['R', 'Bxy']\n",
    "profile = get_1d_poloidal_data(case.ds.isel(t=-1), params = params, region = ('outer_lower'), sepadd = 1)\n",
    "\n",
    "xpoint_location = profile['R'].idxmin()\n",
    "B_xpoint = profile['Bxy'][xpoint_location]\n",
    "\n",
    "f_expansion = ( -1* profile['Bxy']/B_xpoint ) + 2\n",
    "\n",
    "x_sparce = profile['Spar']\n",
    "\n",
    "\n",
    "# fig,ax = plt.subplots(1,1, figsize = (10,5))\n",
    "# ax.plot(profile['Spar'], f_expansion, label = 'f_expansion', marker = 'o')\n",
    "\n",
    "# print(x_sparce)"
   ]
  },
  {
   "cell_type": "code",
   "execution_count": null,
   "metadata": {},
   "outputs": [],
   "source": [
    "x_old = profile['Spar'].values\n",
    "\n",
    "x_rebase = (x_old/x_old.max())*2*np.pi\n",
    "\n",
    "fig,ax = plt.subplots(1,1, figsize = (10,5))\n",
    "ax.plot(x_rebase, f_expansion, label = 'f_expansion', marker = 'o')"
   ]
  },
  {
   "cell_type": "markdown",
   "metadata": {},
   "source": [
    "## Fitting procedure for 2D data"
   ]
  },
  {
   "cell_type": "code",
   "execution_count": null,
   "metadata": {},
   "outputs": [],
   "source": [
    "import numpy as np\n",
    "import matplotlib.pyplot as plt\n",
    "\n",
    "# Replace these with your actual data\n",
    "\n",
    "\n",
    "x_data = x_rebase  # Add your x values here\n",
    "y_data = f_expansion\n",
    "\n",
    "# Ensure you have data before proceeding\n",
    "if len(x_data) == 0 or len(y_data) == 0:\n",
    "    raise ValueError(\"Please provide your x_data and y_data arrays.\")\n",
    "\n",
    "# Fit a 10th-degree polynomial\n",
    "coefficients = np.polyfit(x_data, y_data, 10)\n",
    "\n",
    "# Generate the polynomial function\n",
    "polynomial = np.poly1d(coefficients)\n",
    "\n",
    "# Evaluate the polynomial for plotting\n",
    "x_fit = np.linspace(min(x_data), max(x_data), 500)\n",
    "y_fit = polynomial(x_fit)\n",
    "\n",
    "# Print coefficients\n",
    "print(\"Fitted Polynomial Coefficients:\")\n",
    "for i, coef in enumerate(coefficients[::-1]):\n",
    "    print(f\"coef{i}= {coef:.6f}\")\n",
    "\n",
    "# Plot the data and the fitted polynomial\n",
    "plt.figure(figsize=(10, 6))\n",
    "plt.plot(x_data, y_data, 'o', label=\"B expansion\", markersize=5)\n",
    "plt.plot(x_fit, y_fit+0.01, '-', label=\"10th degree Polynomial Fit\")\n",
    "plt.ylabel(r'$B/B_{xpoint}$')\n",
    "plt.xlabel(r\"$S_{\\parallel} (0 , 2\\pi)$\")\n",
    "plt.legend()\n",
    "plt.grid(True)\n",
    "plt.show()\n"
   ]
  },
  {
   "cell_type": "markdown",
   "metadata": {},
   "source": [
    "# Rebase to 1D"
   ]
  },
  {
   "cell_type": "code",
   "execution_count": null,
   "metadata": {},
   "outputs": [],
   "source": [
    "import numpy as np\n",
    "import matplotlib.pyplot as plt\n",
    "from scipy.interpolate import interp1d\n",
    "\n",
    "# Load the original grid and function values\n",
    "# (Assume you have original `x_old` and function `f_old` fitted to it)\n",
    "x_data = x_rebase  # Add your x values here\n",
    "y_data = f_expansion     # Example function fitted on `x_old`\n",
    "\n",
    "# Define the new grid (non-uniform)\n",
    "ny = 400\n",
    "length = 2 * np.pi\n",
    "dymin = 0.1  # Minimum spacing factor\n",
    "\n",
    "x_new = fl_ex_1D['y'].values\n",
    "x_new[0] = 0\n",
    "\n",
    "for i in range(ny):\n",
    "    y = x_new[i]\n",
    "    dy = (length / ny) * (1 + (1 - dymin) * (1 - y / np.pi))\n",
    "    x_new[i + 1] = x_new[i] + dy\n",
    "\n",
    "x_new[-1] = 2 * np.pi  # Ensure it ends at 2π\n",
    "\n",
    "# Interpolate the function onto the new grid\n",
    "interp_func = interp1d(x_old, f_old, kind=\"cubic\", fill_value=\"extrapolate\")\n",
    "\n",
    "# Apply function to the new grid\n",
    "f_new = interp_func(x_new)\n",
    "\n",
    "# Plot comparison\n",
    "plt.figure(figsize=(8, 5))\n",
    "plt.scatter(x_old, f_old, label=\"Original Function (Fitted Grid)\", s=10)\n",
    "plt.plot(x_new, f_new, label=\"Function Applied to New Grid\", color=\"orange\")\n",
    "plt.xlabel(\"$S_{||} (0, 2\\pi)$\")\n",
    "plt.ylabel(\"$B / B_{xpoint}$\")\n",
    "plt.legend()\n",
    "plt.grid()\n",
    "plt.show()\n"
   ]
  },
  {
   "cell_type": "markdown",
   "metadata": {},
   "source": [
    "# Matt flux expansion"
   ]
  },
  {
   "cell_type": "code",
   "execution_count": null,
   "metadata": {},
   "outputs": [],
   "source": [
    "fe_matt = xh.open('/users/jlb647/scratch/simulation_program/hermes-3_sim/simulation_dir/2025-01_STEP_1D-2D_comparison/Include_flux_expansion/m4ab-tune_albedo_1D_sep_add_1_working_add_flux_expansion_matt')"
   ]
  },
  {
   "cell_type": "code",
   "execution_count": null,
   "metadata": {},
   "outputs": [],
   "source": [
    "fig, ax = plt.subplots(1, 1, figsize = (10, 6))\n",
    "plt.plot(fe_matt['y'], fe_matt['J'][0], label = '1D', linewidth = linewidth, marker = 'o')"
   ]
  },
  {
   "cell_type": "code",
   "execution_count": null,
   "metadata": {},
   "outputs": [],
   "source": [
    "# Matts version for STEP\n",
    "coef0 = 1.7597676684e+00\t\t# Manually setting the flux expansion with a profile from the equilibrium files\n",
    "coef1 = 4.1883560155e-01\t\t# Very hacky but it gets the job done\n",
    "coef2 = -4.6906367245e+00\t\t# area_expansion normally does a good enough job\n",
    "coef3 = 7.3174700447e+00\n",
    "coef4 = -5.7251396733e+00\n",
    "coef5 = 2.6799740048e+00\n",
    "coef6 = -7.9457620000e-01\n",
    "coef7 = 1.5075033673e-01\n",
    "coef8 = -1.7757965412e-02\n",
    "coef9 = 1.1834284917e-03\n",
    "coef10 = -3.4102000406e-05\n",
    "\n",
    "y = \n",
    "\n",
    "\n",
    "J = 0  + y**0*coef0 + y**1*coef1 + y**2*coef2 + y**3*coef3 + y**4*coef4 + y**5*coef5 + y**6*coef6 + y**7*coef7 + y**8*coef8 + y**9*coef9 + y**10*coef10"
   ]
  },
  {
   "cell_type": "code",
   "execution_count": null,
   "metadata": {},
   "outputs": [],
   "source": []
  }
 ],
 "metadata": {
  "kernelspec": {
   "display_name": "hermes-3_venv",
   "language": "python",
   "name": "python3"
  },
  "language_info": {
   "codemirror_mode": {
    "name": "ipython",
    "version": 3
   },
   "file_extension": ".py",
   "mimetype": "text/x-python",
   "name": "python",
   "nbconvert_exporter": "python",
   "pygments_lexer": "ipython3",
   "version": "3.11.3"
  }
 },
 "nbformat": 4,
 "nbformat_minor": 2
}
